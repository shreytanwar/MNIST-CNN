{
  "nbformat": 4,
  "nbformat_minor": 0,
  "metadata": {
    "colab": {
      "name": "MNIST_KNN.ipynb",
      "provenance": [],
      "authorship_tag": "ABX9TyMX5XhAecasqml9S2c8kj3g",
      "include_colab_link": true
    },
    "kernelspec": {
      "name": "python3",
      "display_name": "Python 3"
    }
  },
  "cells": [
    {
      "cell_type": "markdown",
      "metadata": {
        "id": "view-in-github",
        "colab_type": "text"
      },
      "source": [
        "<a href=\"https://colab.research.google.com/github/shreytanwar/MNIST-CNN-and-KNN/blob/main/MNIST_KNN.ipynb\" target=\"_parent\"><img src=\"https://colab.research.google.com/assets/colab-badge.svg\" alt=\"Open In Colab\"/></a>"
      ]
    },
    {
      "cell_type": "code",
      "metadata": {
        "id": "msVVqJi2vgYF"
      },
      "source": [
        "import numpy as np\n",
        "import pandas as pd\n",
        "import matplotlib.pyplot as plt"
      ],
      "execution_count": 1,
      "outputs": []
    },
    {
      "cell_type": "code",
      "metadata": {
        "id": "t1alQwzW5EFv"
      },
      "source": [
        "df = pd.read_csv('train.csv')"
      ],
      "execution_count": 2,
      "outputs": []
    },
    {
      "cell_type": "code",
      "metadata": {
        "id": "Ke2TAK8C5HFc",
        "outputId": "bb5acaeb-8d76-4308-fde8-caf3c2dbbd94",
        "colab": {
          "base_uri": "https://localhost:8080/",
          "height": 272
        }
      },
      "source": [
        "df.head"
      ],
      "execution_count": 3,
      "outputs": [
        {
          "output_type": "execute_result",
          "data": {
            "text/plain": [
              "<bound method NDFrame.head of       7  0  0.1  0.2  0.3  0.4  ...  0.662  0.663  0.664  0.665  0.666  0.667\n",
              "0     2  0    0    0    0    0  ...      0      0      0      0      0      0\n",
              "1     1  0    0    0    0    0  ...      0      0      0      0      0      0\n",
              "2     0  0    0    0    0    0  ...      0      0      0      0      0      0\n",
              "3     4  0    0    0    0    0  ...      0      0      0      0      0      0\n",
              "4     1  0    0    0    0    0  ...      0      0      0      0      0      0\n",
              "...  .. ..  ...  ...  ...  ...  ...    ...    ...    ...    ...    ...    ...\n",
              "9994  2  0    0    0    0    0  ...      0      0      0      0      0      0\n",
              "9995  3  0    0    0    0    0  ...      0      0      0      0      0      0\n",
              "9996  4  0    0    0    0    0  ...      0      0      0      0      0      0\n",
              "9997  5  0    0    0    0    0  ...      0      0      0      0      0      0\n",
              "9998  6  0    0    0    0    0  ...      0      0      0      0      0      0\n",
              "\n",
              "[9999 rows x 785 columns]>"
            ]
          },
          "metadata": {
            "tags": []
          },
          "execution_count": 3
        }
      ]
    },
    {
      "cell_type": "code",
      "metadata": {
        "id": "9lkQ1sL81Idz"
      },
      "source": [
        "Y = df.iloc[:,0].values\n",
        "X = df.iloc[:,1:].values\n",
        "\n",
        "split = (int)(0.8 * X.shape[0])\n",
        "\n",
        "X_train = X[:split, :]\n",
        "Y_train = Y[:split]\n",
        "\n",
        "X_test = X[split:, :]\n",
        "Y_test = Y[split:]"
      ],
      "execution_count": 4,
      "outputs": []
    },
    {
      "cell_type": "code",
      "metadata": {
        "id": "KDV2SVkA5cVJ",
        "outputId": "fb5c1e32-388b-4119-bf34-4bbe083aa9fa",
        "colab": {
          "base_uri": "https://localhost:8080/",
          "height": 34
        }
      },
      "source": [
        "Y"
      ],
      "execution_count": 5,
      "outputs": [
        {
          "output_type": "execute_result",
          "data": {
            "text/plain": [
              "array([2, 1, 0, ..., 4, 5, 6])"
            ]
          },
          "metadata": {
            "tags": []
          },
          "execution_count": 5
        }
      ]
    },
    {
      "cell_type": "markdown",
      "metadata": {
        "id": "G4MdQGP_1-PF"
      },
      "source": [
        "KNN"
      ]
    },
    {
      "cell_type": "code",
      "metadata": {
        "id": "VYEZkC9A1uEV"
      },
      "source": [
        "def distance(x, point):\n",
        "  d = np.sqrt( sum( (x-point) ** 2 ))\n",
        "  return d"
      ],
      "execution_count": 6,
      "outputs": []
    },
    {
      "cell_type": "code",
      "metadata": {
        "id": "SGOlKS2i2I5L"
      },
      "source": [
        "def knn(X, Y, point, K = 5):\n",
        "  dist = []\n",
        "  m = X.shape[0]\n",
        "\n",
        "  for i in range(m):\n",
        "    d = distance(X[i], point)\n",
        "    dist.append((d,Y[i]))\n",
        "\n",
        "  dist = sorted(dist, key = lambda d : d[0])\n",
        "  dist = np.array(dist[ : K])\n",
        "\n",
        "  classes = np.unique(np.array(Y))\n",
        "\n",
        "  print(classes)\n",
        "\n",
        "  votes = np.zeros(len(classes))\n",
        "\n",
        "  for d in dist:\n",
        "    votes[int(d[1])] += 1/d[0]\n",
        "\n",
        "  pred = np.argmax(votes)\n",
        "\n",
        "  return pred"
      ],
      "execution_count": 7,
      "outputs": []
    },
    {
      "cell_type": "code",
      "metadata": {
        "id": "oZugIJp-6tWi"
      },
      "source": [
        "def drawImg(sample):\n",
        "  sample = sample.reshape(28,28)\n",
        "  plt.imshow(sample)\n",
        "  plt.show()"
      ],
      "execution_count": 8,
      "outputs": []
    },
    {
      "cell_type": "code",
      "metadata": {
        "id": "ge-kkWXQ3CGc",
        "outputId": "ed2d5ebe-6a64-4826-a659-b3bb802a8ba8",
        "colab": {
          "base_uri": "https://localhost:8080/",
          "height": 202
        }
      },
      "source": [
        "y_pred = []\n",
        "\n",
        "for test in X_test[:10, :]:\n",
        "  y_pred.append( knn(X_train, Y_train, test, K = 5) )\n",
        "\n",
        "count = 0\n",
        "\n",
        "for i in range(len(y_pred)):\n",
        "  if y_pred[i] == Y_test[i]:\n",
        "    count+=1\n",
        "\n",
        "accuracy = count/len(y_pred)\n",
        "\n",
        "print(\"Accuracy: {accuracy*100}\")"
      ],
      "execution_count": 9,
      "outputs": [
        {
          "output_type": "stream",
          "text": [
            "[0 1 2 3 4 5 6 7 8 9]\n",
            "[0 1 2 3 4 5 6 7 8 9]\n",
            "[0 1 2 3 4 5 6 7 8 9]\n",
            "[0 1 2 3 4 5 6 7 8 9]\n",
            "[0 1 2 3 4 5 6 7 8 9]\n",
            "[0 1 2 3 4 5 6 7 8 9]\n",
            "[0 1 2 3 4 5 6 7 8 9]\n",
            "[0 1 2 3 4 5 6 7 8 9]\n",
            "[0 1 2 3 4 5 6 7 8 9]\n",
            "[0 1 2 3 4 5 6 7 8 9]\n",
            "Accuracy: {accuracy*100}\n"
          ],
          "name": "stdout"
        }
      ]
    },
    {
      "cell_type": "code",
      "metadata": {
        "id": "2vVSGAYi3nML"
      },
      "source": [
        "def predict(i):\n",
        "  y_pred = knn(X_train, Y_train, X_test[i], K = 5)\n",
        "  print(y_pred)\n",
        "  drawImg(X_test[i])"
      ],
      "execution_count": 11,
      "outputs": []
    },
    {
      "cell_type": "code",
      "metadata": {
        "id": "nAiRf6DD4npb",
        "outputId": "e0b987d7-7b60-49ee-9054-3af34a191da8",
        "colab": {
          "base_uri": "https://localhost:8080/",
          "height": 1000
        }
      },
      "source": [
        "for i in range (0,5):\n",
        "  predict(50+i)"
      ],
      "execution_count": 13,
      "outputs": [
        {
          "output_type": "stream",
          "text": [
            "[0 1 2 3 4 5 6 7 8 9]\n",
            "3\n"
          ],
          "name": "stdout"
        },
        {
          "output_type": "display_data",
          "data": {
            "image/png": "[encoded data removed]",
            "text/plain": [
              "<Figure size 432x288 with 1 Axes>"
            ]
          },
          "metadata": {
            "tags": [],
            "needs_background": "light"
          }
        },
        {
          "output_type": "stream",
          "text": [
            "[0 1 2 3 4 5 6 7 8 9]\n",
            "4\n"
          ],
          "name": "stdout"
        },
        {
          "output_type": "display_data",
          "data": {
            "image/png": "[encoded data removed]",
            "text/plain": [
              "<Figure size 432x288 with 1 Axes>"
            ]
          },
          "metadata": {
            "tags": [],
            "needs_background": "light"
          }
        },
        {
          "output_type": "stream",
          "text": [
            "[0 1 2 3 4 5 6 7 8 9]\n",
            "7\n"
          ],
          "name": "stdout"
        },
        {
          "output_type": "display_data",
          "data": {
            "image/png": "[encoded data removed]",
            "text/plain": [
              "<Figure size 432x288 with 1 Axes>"
            ]
          },
          "metadata": {
            "tags": [],
            "needs_background": "light"
          }
        },
        {
          "output_type": "stream",
          "text": [
            "[0 1 2 3 4 5 6 7 8 9]\n",
            "9\n"
          ],
          "name": "stdout"
        },
        {
          "output_type": "display_data",
          "data": {
            "image/png": "[encoded data removed]",
            "text/plain": [
              "<Figure size 432x288 with 1 Axes>"
            ]
          },
          "metadata": {
            "tags": [],
            "needs_background": "light"
          }
        },
        {
          "output_type": "stream",
          "text": [
            "[0 1 2 3 4 5 6 7 8 9]\n",
            "4\n"
          ],
          "name": "stdout"
        },
        {
          "output_type": "display_data",
          "data": {
            "image/png": "[encoded data removed]",
            "text/plain": [
              "<Figure size 432x288 with 1 Axes>"
            ]
          },
          "metadata": {
            "tags": [],
            "needs_background": "light"
          }
        }
      ]
    },
    {
      "cell_type": "code",
      "metadata": {
        "id": "pEXUD5Ak7SxK",
        "outputId": "f34ef59e-9308-4150-8c0e-3abaaec13453",
        "colab": {
          "base_uri": "https://localhost:8080/",
          "height": 1000
        }
      },
      "source": [
        "fig = plt.figure(figsize=(16,16))\n",
        "index = 1\n",
        "for i in range(0,16):\n",
        "  y_pred = knn(X_train, Y_train, X_test[i], K = 5)\n",
        "  img = X_test[i]\n",
        "  img = img.reshape(28,28)\n",
        "  ax = fig.add_subplot(4,4,index)\n",
        "  index=index+1\n",
        "  plt.imshow(img)\n",
        "  label = \"Predicted value:\",y_pred\n",
        "  ax.get_yaxis().set_visible(False)\n",
        "  ax.set_xlabel(label)"
      ],
      "execution_count": 18,
      "outputs": [
        {
          "output_type": "stream",
          "text": [
            "[0 1 2 3 4 5 6 7 8 9]\n",
            "[0 1 2 3 4 5 6 7 8 9]\n",
            "[0 1 2 3 4 5 6 7 8 9]\n",
            "[0 1 2 3 4 5 6 7 8 9]\n",
            "[0 1 2 3 4 5 6 7 8 9]\n",
            "[0 1 2 3 4 5 6 7 8 9]\n",
            "[0 1 2 3 4 5 6 7 8 9]\n",
            "[0 1 2 3 4 5 6 7 8 9]\n",
            "[0 1 2 3 4 5 6 7 8 9]\n",
            "[0 1 2 3 4 5 6 7 8 9]\n",
            "[0 1 2 3 4 5 6 7 8 9]\n",
            "[0 1 2 3 4 5 6 7 8 9]\n",
            "[0 1 2 3 4 5 6 7 8 9]\n",
            "[0 1 2 3 4 5 6 7 8 9]\n",
            "[0 1 2 3 4 5 6 7 8 9]\n",
            "[0 1 2 3 4 5 6 7 8 9]\n"
          ],
          "name": "stdout"
        },
        {
          "output_type": "display_data",
          "data": {
            "image/png": "[encoded data removed]",
            "text/plain": [
              "<Figure size 1152x1152 with 16 Axes>"
            ]
          },
          "metadata": {
            "tags": [],
            "needs_background": "light"
          }
        }
      ]
    },
    {
      "cell_type": "code",
      "metadata": {
        "id": "fg8FUICc8OvE"
      },
      "source": [
        ""
      ],
      "execution_count": null,
      "outputs": []
    }
  ]
}