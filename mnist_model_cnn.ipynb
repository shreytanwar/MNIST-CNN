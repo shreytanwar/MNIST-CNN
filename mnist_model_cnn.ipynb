{
  "nbformat": 4,
  "nbformat_minor": 0,
  "metadata": {
    "colab": {
      "name": "mnist_model_cnn.ipynb",
      "provenance": [],
      "authorship_tag": "ABX9TyOvK3xTYLXyxluusN2GsEg7",
      "include_colab_link": true
    },
    "kernelspec": {
      "name": "python3",
      "display_name": "Python 3"
    }
  },
  "cells": [
    {
      "cell_type": "markdown",
      "metadata": {
        "id": "view-in-github",
        "colab_type": "text"
      },
      "source": [
        "<a href=\"https://colab.research.google.com/github/shreytanwar/MNIST-CNN/blob/main/mnist_model_cnn.ipynb\" target=\"_parent\"><img src=\"https://colab.research.google.com/assets/colab-badge.svg\" alt=\"Open In Colab\"/></a>"
      ]
    },
    {
      "cell_type": "code",
      "metadata": {
        "id": "ETT5Z78C5Ggz"
      },
      "source": [
        "from keras.datasets import mnist\n",
        "\n",
        "from keras.models import Sequential\n",
        "\n",
        "from keras.layers import Flatten\n",
        "from keras.layers import Dense\n",
        "from keras.layers import Dropout\n",
        "from keras.layers import Conv2D\n",
        "from keras.layers import MaxPooling2D\n",
        "\n",
        "import keras.backend as K\n",
        "\n",
        "import matplotlib.pyplot as plt"
      ],
      "execution_count": 1,
      "outputs": []
    },
    {
      "cell_type": "code",
      "metadata": {
        "id": "iBmVyMoZ5TB4"
      },
      "source": [
        "(x_train,y_train),(x_test, y_test) = mnist.load_data()"
      ],
      "execution_count": 2,
      "outputs": []
    },
    {
      "cell_type": "code",
      "metadata": {
        "id": "Ktgo3tUT6Sik",
        "outputId": "79942bcd-1725-4a65-8c5f-908d1a24c97e",
        "colab": {
          "base_uri": "https://localhost:8080/",
          "height": 296
        }
      },
      "source": [
        "plt.imshow(x_train[0])\n",
        "plt.xlabel(y_train[0])"
      ],
      "execution_count": 3,
      "outputs": [
        {
          "output_type": "execute_result",
          "data": {
            "text/plain": [
              "Text(0.5, 0, '5')"
            ]
          },
          "metadata": {
            "tags": []
          },
          "execution_count": 3
        },
        {
          "output_type": "display_data",
          "data": {
            "image/png": "[encoded data removed]",
            "text/plain": [
              "<Figure size 432x288 with 1 Axes>"
            ]
          },
          "metadata": {
            "tags": [],
            "needs_background": "light"
          }
        }
      ]
    },
    {
      "cell_type": "code",
      "metadata": {
        "id": "oHi_NYqu7XtH",
        "outputId": "2de1478c-995d-43a6-d9b8-fe659a990b73",
        "colab": {
          "base_uri": "https://localhost:8080/",
          "height": 34
        }
      },
      "source": [
        "print(x_train.shape)"
      ],
      "execution_count": 4,
      "outputs": [
        {
          "output_type": "stream",
          "text": [
            "(60000, 28, 28)\n"
          ],
          "name": "stdout"
        }
      ]
    },
    {
      "cell_type": "code",
      "metadata": {
        "id": "PqV2MchE6TUy"
      },
      "source": [
        "if(K.image_data_format() == 'channels_first'):\n",
        "    x_train = x_train.reshape(x_train.shape[0], 1, 28, 28)\n",
        "    x_test = x_test.reshape(x_test.shape[0], 1, 28, 28)\n",
        "    input_shape = (1, 28, 28)\n",
        "else:\n",
        "    x_train = x_train.reshape(x_train.shape[0], 28, 28, 1)\n",
        "    x_test = x_test.reshape(x_test.shape[0], 28, 28, 1)\n",
        "    input_shape = (28, 28 , 1)"
      ],
      "execution_count": 5,
      "outputs": []
    },
    {
      "cell_type": "code",
      "metadata": {
        "id": "O96sVtU16TzY"
      },
      "source": [
        "x_train = x_train.astype('float32')\n",
        "x_test = x_test.astype('float32')"
      ],
      "execution_count": 6,
      "outputs": []
    },
    {
      "cell_type": "code",
      "metadata": {
        "id": "aeMF1BwL8K8g"
      },
      "source": [
        "x_train /= 255\n",
        "x_test /= 255"
      ],
      "execution_count": 7,
      "outputs": []
    },
    {
      "cell_type": "code",
      "metadata": {
        "id": "aGHILJqK6UGU"
      },
      "source": [
        "y_train = y_train.reshape(len(y_train), 1)\n",
        "y_test = y_test.reshape(len(y_test), 1)"
      ],
      "execution_count": 8,
      "outputs": []
    },
    {
      "cell_type": "markdown",
      "metadata": {
        "id": "HS1lcCKNBdJj"
      },
      "source": [
        "**Apply oneHotEncoder**"
      ]
    },
    {
      "cell_type": "code",
      "metadata": {
        "id": "fisATaqX9Clw"
      },
      "source": [
        "from sklearn.compose import ColumnTransformer \n",
        "from sklearn.preprocessing import OneHotEncoder\n",
        "\n",
        "columnTransformer = ColumnTransformer([('encoder', OneHotEncoder(), [0])], remainder='passthrough')\n",
        "\n",
        "y_train = (columnTransformer.fit_transform(y_train)).toarray()\n",
        "y_test = (columnTransformer.fit_transform(y_test)).toarray()    "
      ],
      "execution_count": 9,
      "outputs": []
    },
    {
      "cell_type": "code",
      "metadata": {
        "id": "xuz5VwbBFPsB",
        "outputId": "6f739849-7302-447c-d3c0-d5fb556fa9de",
        "colab": {
          "base_uri": "https://localhost:8080/",
          "height": 134
        }
      },
      "source": [
        "y_train"
      ],
      "execution_count": 10,
      "outputs": [
        {
          "output_type": "execute_result",
          "data": {
            "text/plain": [
              "array([[0., 0., 0., ..., 0., 0., 0.],\n",
              "       [1., 0., 0., ..., 0., 0., 0.],\n",
              "       [0., 0., 0., ..., 0., 0., 0.],\n",
              "       ...,\n",
              "       [0., 0., 0., ..., 0., 0., 0.],\n",
              "       [0., 0., 0., ..., 0., 0., 0.],\n",
              "       [0., 0., 0., ..., 0., 1., 0.]])"
            ]
          },
          "metadata": {
            "tags": []
          },
          "execution_count": 10
        }
      ]
    },
    {
      "cell_type": "markdown",
      "metadata": {
        "id": "K2yX5GK-Bj7z"
      },
      "source": [
        "*MODEL*"
      ]
    },
    {
      "cell_type": "code",
      "metadata": {
        "id": "UEo91hlqAoKE"
      },
      "source": [
        "model = Sequential()\n",
        "\n",
        "model.add(Conv2D(28, (3,3), padding = 'same', activation='relu', input_shape =input_shape))\n",
        "model.add(MaxPooling2D(pool_size = (2, 2) ))\n",
        "\n",
        "model.add(Conv2D(64, (3,3), padding= 'same', activation='relu'))\n",
        "model.add(MaxPooling2D(pool_size= (2, 2)))\n",
        "model.add(Flatten())\n",
        "\n",
        "model.add(Dense(128, activation= 'relu'))\n",
        "model.add(Dropout (rate = 0.25))\n",
        "\n",
        "model.add(Dense(64, activation= 'relu'))\n",
        "model.add(Dropout (rate = 0.25))\n",
        "\n",
        "model.add(Dense(10, activation= \"softmax\"))\n",
        "\n",
        "model.compile(loss='categorical_crossentropy',optimizer='adam',metrics=['accuracy'])"
      ],
      "execution_count": 11,
      "outputs": []
    },
    {
      "cell_type": "code",
      "metadata": {
        "id": "c46DHImpfqgo",
        "outputId": "a6fea9da-98fe-41cf-a1a0-3028ab41f280",
        "colab": {
          "base_uri": "https://localhost:8080/",
          "height": 1000
        }
      },
      "source": [
        "model.fit(x_train,y_train,batch_size=256,epochs=50,validation_data=(x_test,y_test))"
      ],
      "execution_count": 12,
      "outputs": [
        {
          "output_type": "stream",
          "text": [
            "Epoch 1/50\n",
            "235/235 [==============================] - 55s 236ms/step - loss: 0.3990 - accuracy: 0.8756 - val_loss: 0.0684 - val_accuracy: 0.9778\n",
            "Epoch 2/50\n",
            "235/235 [==============================] - 55s 234ms/step - loss: 0.1021 - accuracy: 0.9698 - val_loss: 0.0451 - val_accuracy: 0.9849\n",
            "Epoch 3/50\n",
            "235/235 [==============================] - 55s 234ms/step - loss: 0.0698 - accuracy: 0.9794 - val_loss: 0.0386 - val_accuracy: 0.9870\n",
            "Epoch 4/50\n",
            "235/235 [==============================] - 55s 233ms/step - loss: 0.0557 - accuracy: 0.9837 - val_loss: 0.0345 - val_accuracy: 0.9877\n",
            "Epoch 5/50\n",
            "235/235 [==============================] - 55s 233ms/step - loss: 0.0465 - accuracy: 0.9863 - val_loss: 0.0276 - val_accuracy: 0.9909\n",
            "Epoch 6/50\n",
            "235/235 [==============================] - 55s 233ms/step - loss: 0.0391 - accuracy: 0.9882 - val_loss: 0.0311 - val_accuracy: 0.9908\n",
            "Epoch 7/50\n",
            "235/235 [==============================] - 54s 232ms/step - loss: 0.0333 - accuracy: 0.9903 - val_loss: 0.0305 - val_accuracy: 0.9908\n",
            "Epoch 8/50\n",
            "235/235 [==============================] - 54s 231ms/step - loss: 0.0295 - accuracy: 0.9909 - val_loss: 0.0268 - val_accuracy: 0.9908\n",
            "Epoch 9/50\n",
            "235/235 [==============================] - 54s 231ms/step - loss: 0.0252 - accuracy: 0.9923 - val_loss: 0.0276 - val_accuracy: 0.9922\n",
            "Epoch 10/50\n",
            "235/235 [==============================] - 55s 232ms/step - loss: 0.0224 - accuracy: 0.9930 - val_loss: 0.0282 - val_accuracy: 0.9916\n",
            "Epoch 11/50\n",
            "235/235 [==============================] - 54s 231ms/step - loss: 0.0209 - accuracy: 0.9934 - val_loss: 0.0305 - val_accuracy: 0.9911\n",
            "Epoch 12/50\n",
            "235/235 [==============================] - 55s 233ms/step - loss: 0.0175 - accuracy: 0.9945 - val_loss: 0.0276 - val_accuracy: 0.9918\n",
            "Epoch 13/50\n",
            "235/235 [==============================] - 55s 232ms/step - loss: 0.0167 - accuracy: 0.9947 - val_loss: 0.0303 - val_accuracy: 0.9915\n",
            "Epoch 14/50\n",
            "235/235 [==============================] - 55s 232ms/step - loss: 0.0163 - accuracy: 0.9948 - val_loss: 0.0288 - val_accuracy: 0.9924\n",
            "Epoch 15/50\n",
            "235/235 [==============================] - 55s 233ms/step - loss: 0.0150 - accuracy: 0.9951 - val_loss: 0.0350 - val_accuracy: 0.9899\n",
            "Epoch 16/50\n",
            "235/235 [==============================] - 55s 232ms/step - loss: 0.0130 - accuracy: 0.9956 - val_loss: 0.0338 - val_accuracy: 0.9912\n",
            "Epoch 17/50\n",
            "235/235 [==============================] - 54s 232ms/step - loss: 0.0136 - accuracy: 0.9955 - val_loss: 0.0285 - val_accuracy: 0.9915\n",
            "Epoch 18/50\n",
            "235/235 [==============================] - 55s 233ms/step - loss: 0.0099 - accuracy: 0.9970 - val_loss: 0.0326 - val_accuracy: 0.9913\n",
            "Epoch 19/50\n",
            "235/235 [==============================] - 54s 232ms/step - loss: 0.0113 - accuracy: 0.9963 - val_loss: 0.0317 - val_accuracy: 0.9921\n",
            "Epoch 20/50\n",
            "235/235 [==============================] - 54s 231ms/step - loss: 0.0092 - accuracy: 0.9971 - val_loss: 0.0389 - val_accuracy: 0.9903\n",
            "Epoch 21/50\n",
            "235/235 [==============================] - 54s 232ms/step - loss: 0.0096 - accuracy: 0.9969 - val_loss: 0.0332 - val_accuracy: 0.9919\n",
            "Epoch 22/50\n",
            "235/235 [==============================] - 55s 232ms/step - loss: 0.0086 - accuracy: 0.9972 - val_loss: 0.0368 - val_accuracy: 0.9911\n",
            "Epoch 23/50\n",
            "235/235 [==============================] - 54s 232ms/step - loss: 0.0086 - accuracy: 0.9973 - val_loss: 0.0314 - val_accuracy: 0.9917\n",
            "Epoch 24/50\n",
            "235/235 [==============================] - 55s 233ms/step - loss: 0.0073 - accuracy: 0.9976 - val_loss: 0.0280 - val_accuracy: 0.9933\n",
            "Epoch 25/50\n",
            "235/235 [==============================] - 55s 233ms/step - loss: 0.0075 - accuracy: 0.9976 - val_loss: 0.0351 - val_accuracy: 0.9915\n",
            "Epoch 26/50\n",
            "235/235 [==============================] - 55s 232ms/step - loss: 0.0075 - accuracy: 0.9975 - val_loss: 0.0351 - val_accuracy: 0.9926\n",
            "Epoch 27/50\n",
            "235/235 [==============================] - 54s 232ms/step - loss: 0.0072 - accuracy: 0.9976 - val_loss: 0.0370 - val_accuracy: 0.9918\n",
            "Epoch 28/50\n",
            "235/235 [==============================] - 54s 231ms/step - loss: 0.0075 - accuracy: 0.9977 - val_loss: 0.0359 - val_accuracy: 0.9920\n",
            "Epoch 29/50\n",
            "235/235 [==============================] - 54s 231ms/step - loss: 0.0055 - accuracy: 0.9980 - val_loss: 0.0333 - val_accuracy: 0.9913\n",
            "Epoch 30/50\n",
            "235/235 [==============================] - 55s 232ms/step - loss: 0.0057 - accuracy: 0.9982 - val_loss: 0.0382 - val_accuracy: 0.9921\n",
            "Epoch 31/50\n",
            "235/235 [==============================] - 54s 231ms/step - loss: 0.0084 - accuracy: 0.9970 - val_loss: 0.0353 - val_accuracy: 0.9918\n",
            "Epoch 32/50\n",
            "235/235 [==============================] - 54s 230ms/step - loss: 0.0071 - accuracy: 0.9976 - val_loss: 0.0316 - val_accuracy: 0.9922\n",
            "Epoch 33/50\n",
            "235/235 [==============================] - 55s 232ms/step - loss: 0.0055 - accuracy: 0.9982 - val_loss: 0.0332 - val_accuracy: 0.9922\n",
            "Epoch 34/50\n",
            "235/235 [==============================] - 54s 231ms/step - loss: 0.0058 - accuracy: 0.9981 - val_loss: 0.0337 - val_accuracy: 0.9926\n",
            "Epoch 35/50\n",
            "235/235 [==============================] - 55s 233ms/step - loss: 0.0059 - accuracy: 0.9981 - val_loss: 0.0368 - val_accuracy: 0.9928\n",
            "Epoch 36/50\n",
            "235/235 [==============================] - 55s 233ms/step - loss: 0.0050 - accuracy: 0.9984 - val_loss: 0.0375 - val_accuracy: 0.9919\n",
            "Epoch 37/50\n",
            "235/235 [==============================] - 54s 232ms/step - loss: 0.0072 - accuracy: 0.9976 - val_loss: 0.0362 - val_accuracy: 0.9917\n",
            "Epoch 38/50\n",
            "235/235 [==============================] - 54s 231ms/step - loss: 0.0057 - accuracy: 0.9983 - val_loss: 0.0363 - val_accuracy: 0.9921\n",
            "Epoch 39/50\n",
            "235/235 [==============================] - 54s 231ms/step - loss: 0.0036 - accuracy: 0.9988 - val_loss: 0.0393 - val_accuracy: 0.9935\n",
            "Epoch 40/50\n",
            "235/235 [==============================] - 54s 231ms/step - loss: 0.0035 - accuracy: 0.9990 - val_loss: 0.0342 - val_accuracy: 0.9929\n",
            "Epoch 41/50\n",
            "235/235 [==============================] - 54s 232ms/step - loss: 0.0050 - accuracy: 0.9984 - val_loss: 0.0358 - val_accuracy: 0.9930\n",
            "Epoch 42/50\n",
            "235/235 [==============================] - 54s 230ms/step - loss: 0.0040 - accuracy: 0.9988 - val_loss: 0.0388 - val_accuracy: 0.9924\n",
            "Epoch 43/50\n",
            "235/235 [==============================] - 54s 230ms/step - loss: 0.0039 - accuracy: 0.9986 - val_loss: 0.0360 - val_accuracy: 0.9929\n",
            "Epoch 44/50\n",
            "235/235 [==============================] - 54s 232ms/step - loss: 0.0046 - accuracy: 0.9984 - val_loss: 0.0352 - val_accuracy: 0.9925\n",
            "Epoch 45/50\n",
            "235/235 [==============================] - 54s 231ms/step - loss: 0.0051 - accuracy: 0.9984 - val_loss: 0.0362 - val_accuracy: 0.9930\n",
            "Epoch 46/50\n",
            "235/235 [==============================] - 54s 232ms/step - loss: 0.0041 - accuracy: 0.9988 - val_loss: 0.0422 - val_accuracy: 0.9926\n",
            "Epoch 47/50\n",
            "235/235 [==============================] - 55s 233ms/step - loss: 0.0048 - accuracy: 0.9984 - val_loss: 0.0387 - val_accuracy: 0.9924\n",
            "Epoch 48/50\n",
            "235/235 [==============================] - 54s 231ms/step - loss: 0.0048 - accuracy: 0.9984 - val_loss: 0.0356 - val_accuracy: 0.9929\n",
            "Epoch 49/50\n",
            "235/235 [==============================] - 54s 231ms/step - loss: 0.0034 - accuracy: 0.9990 - val_loss: 0.0402 - val_accuracy: 0.9921\n",
            "Epoch 50/50\n",
            "235/235 [==============================] - 54s 231ms/step - loss: 0.0037 - accuracy: 0.9987 - val_loss: 0.0404 - val_accuracy: 0.9925\n"
          ],
          "name": "stdout"
        },
        {
          "output_type": "execute_result",
          "data": {
            "text/plain": [
              "<tensorflow.python.keras.callbacks.History at 0x7fda745c1d68>"
            ]
          },
          "metadata": {
            "tags": []
          },
          "execution_count": 12
        }
      ]
    },
    {
      "cell_type": "code",
      "metadata": {
        "id": "FDzsVUFwDSBJ"
      },
      "source": [
        "model.save('mnist.h5')"
      ],
      "execution_count": 13,
      "outputs": []
    }
  ]
}